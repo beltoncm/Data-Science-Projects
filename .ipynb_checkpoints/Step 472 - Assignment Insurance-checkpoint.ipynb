{
 "cells": [
  {
   "cell_type": "markdown",
   "id": "a76ad9a7",
   "metadata": {},
   "source": [
    "##STEP 472 Insurance File"
   ]
  },
  {
   "cell_type": "code",
   "execution_count": 37,
   "id": "48a0f724",
   "metadata": {},
   "outputs": [],
   "source": [
    "#importing the libraries\n",
    "import numpy as np\n",
    "import matplotlib.pyplot as plt\n",
    "import pandas as pd\n",
    "import seaborn as sns\n",
    "%matplotlib inline\n",
    "#note always have to import matplotlib library when working with seaborn"
   ]
  },
  {
   "cell_type": "code",
   "execution_count": 38,
   "id": "e579907d",
   "metadata": {},
   "outputs": [],
   "source": [
    "#Importing the dataset and extracting the Independent and Dependent variables\n",
    "companies = pd.read_csv('insuranceData.csv')\n",
    "\n",
    "\n",
    "\n",
    "# includer all continuous variables and one categorical variable.\n",
    "\n",
    "X = companies.iloc[:,[0,1,2,3]].values\n",
    "\n",
    "# : means all rows  4 means the fourth column\n",
    "\n",
    "\n",
    "\n",
    "## set dependent variable to charges\n",
    "y = companies.iloc[:,4].values\n",
    "\n"
   ]
  },
  {
   "cell_type": "code",
   "execution_count": 39,
   "id": "85b44464",
   "metadata": {},
   "outputs": [
    {
     "data": {
      "text/html": [
       "<div>\n",
       "<style scoped>\n",
       "    .dataframe tbody tr th:only-of-type {\n",
       "        vertical-align: middle;\n",
       "    }\n",
       "\n",
       "    .dataframe tbody tr th {\n",
       "        vertical-align: top;\n",
       "    }\n",
       "\n",
       "    .dataframe thead th {\n",
       "        text-align: right;\n",
       "    }\n",
       "</style>\n",
       "<table border=\"1\" class=\"dataframe\">\n",
       "  <thead>\n",
       "    <tr style=\"text-align: right;\">\n",
       "      <th></th>\n",
       "      <th>age</th>\n",
       "      <th>bmi</th>\n",
       "      <th>children</th>\n",
       "      <th>smoker</th>\n",
       "      <th>charges</th>\n",
       "    </tr>\n",
       "  </thead>\n",
       "  <tbody>\n",
       "    <tr>\n",
       "      <th>0</th>\n",
       "      <td>19</td>\n",
       "      <td>27.900</td>\n",
       "      <td>0</td>\n",
       "      <td>yes</td>\n",
       "      <td>16884.92400</td>\n",
       "    </tr>\n",
       "    <tr>\n",
       "      <th>1</th>\n",
       "      <td>18</td>\n",
       "      <td>33.770</td>\n",
       "      <td>1</td>\n",
       "      <td>no</td>\n",
       "      <td>1725.55230</td>\n",
       "    </tr>\n",
       "    <tr>\n",
       "      <th>2</th>\n",
       "      <td>28</td>\n",
       "      <td>33.000</td>\n",
       "      <td>3</td>\n",
       "      <td>no</td>\n",
       "      <td>4449.46200</td>\n",
       "    </tr>\n",
       "    <tr>\n",
       "      <th>3</th>\n",
       "      <td>33</td>\n",
       "      <td>22.705</td>\n",
       "      <td>0</td>\n",
       "      <td>no</td>\n",
       "      <td>21984.47061</td>\n",
       "    </tr>\n",
       "    <tr>\n",
       "      <th>4</th>\n",
       "      <td>32</td>\n",
       "      <td>28.880</td>\n",
       "      <td>0</td>\n",
       "      <td>no</td>\n",
       "      <td>3866.85520</td>\n",
       "    </tr>\n",
       "  </tbody>\n",
       "</table>\n",
       "</div>"
      ],
      "text/plain": [
       "   age     bmi  children smoker      charges\n",
       "0   19  27.900         0    yes  16884.92400\n",
       "1   18  33.770         1     no   1725.55230\n",
       "2   28  33.000         3     no   4449.46200\n",
       "3   33  22.705         0     no  21984.47061\n",
       "4   32  28.880         0     no   3866.85520"
      ]
     },
     "execution_count": 39,
     "metadata": {},
     "output_type": "execute_result"
    }
   ],
   "source": [
    "companies.head()"
   ]
  },
  {
   "cell_type": "code",
   "execution_count": 40,
   "id": "b69d5833",
   "metadata": {},
   "outputs": [
    {
     "data": {
      "text/plain": [
       "<Axes: >"
      ]
     },
     "execution_count": 40,
     "metadata": {},
     "output_type": "execute_result"
    },
    {
     "data": {
      "image/png": "[encoded data removed]",
      "text/plain": [
       "<Figure size 640x480 with 2 Axes>"
      ]
     },
     "metadata": {},
     "output_type": "display_data"
    }
   ],
   "source": [
    "#Data Visualization\n",
    "#Building the Correlation matrix\n",
    "sns.heatmap(companies.corr(numeric_only = True))"
   ]
  },
  {
   "cell_type": "code",
   "execution_count": 41,
   "id": "4e3a58d4",
   "metadata": {},
   "outputs": [
    {
     "name": "stdout",
     "output_type": "stream",
     "text": [
      "[[1.0 0.0 0.0 ... 19 27.9 1]\n",
      " [0.0 1.0 0.0 ... 18 33.77 0]\n",
      " [0.0 0.0 0.0 ... 28 33.0 0]\n",
      " ...\n",
      " [1.0 0.0 0.0 ... 18 36.85 0]\n",
      " [1.0 0.0 0.0 ... 21 25.8 0]\n",
      " [1.0 0.0 0.0 ... 61 29.07 1]]\n"
     ]
    }
   ],
   "source": [
    "# Encoding Categorical data\n",
    "from sklearn.preprocessing import LabelEncoder, OneHotEncoder\n",
    "from sklearn.compose import ColumnTransformer\n",
    "labelencoder = LabelEncoder()\n",
    "#encode Smoker Non Smoker Categorical variable\n",
    "X[:,3] = labelencoder.fit_transform(X[:,3])\n",
    "#set values for yes no\n",
    "onehotencoder = ColumnTransformer([(\"State\",OneHotEncoder(),[2])], remainder = \"passthrough\")\n",
    "X = onehotencoder.fit_transform(X)\n",
    "print(X)"
   ]
  },
  {
   "cell_type": "code",
   "execution_count": 42,
   "id": "ad35a840",
   "metadata": {},
   "outputs": [],
   "source": [
    "#Splitting the dataset into the Training set and Test set\n",
    "#set the test size to 15%\n",
    "from sklearn.model_selection import train_test_split\n",
    "X_train, X_test,y_train,y_test = train_test_split(X,y,test_size = 0.15, random_state = 0)"
   ]
  },
  {
   "cell_type": "code",
   "execution_count": 43,
   "id": "452fd9eb",
   "metadata": {},
   "outputs": [
    {
     "data": {
      "text/html": [
       "<style>#sk-container-id-2 {color: black;background-color: white;}#sk-container-id-2 pre{padding: 0;}#sk-container-id-2 div.sk-toggleable {background-color: white;}#sk-container-id-2 label.sk-toggleable__label {cursor: pointer;display: block;width: 100%;margin-bottom: 0;padding: 0.3em;box-sizing: border-box;text-align: center;}#sk-container-id-2 label.sk-toggleable__label-arrow:before {content: \"▸\";float: left;margin-right: 0.25em;color: #696969;}#sk-container-id-2 label.sk-toggleable__label-arrow:hover:before {color: black;}#sk-container-id-2 div.sk-estimator:hover label.sk-toggleable__label-arrow:before {color: black;}#sk-container-id-2 div.sk-toggleable__content {max-height: 0;max-width: 0;overflow: hidden;text-align: left;background-color: #f0f8ff;}#sk-container-id-2 div.sk-toggleable__content pre {margin: 0.2em;color: black;border-radius: 0.25em;background-color: #f0f8ff;}#sk-container-id-2 input.sk-toggleable__control:checked~div.sk-toggleable__content {max-height: 200px;max-width: 100%;overflow: auto;}#sk-container-id-2 input.sk-toggleable__control:checked~label.sk-toggleable__label-arrow:before {content: \"▾\";}#sk-container-id-2 div.sk-estimator input.sk-toggleable__control:checked~label.sk-toggleable__label {background-color: #d4ebff;}#sk-container-id-2 div.sk-label input.sk-toggleable__control:checked~label.sk-toggleable__label {background-color: #d4ebff;}#sk-container-id-2 input.sk-hidden--visually {border: 0;clip: rect(1px 1px 1px 1px);clip: rect(1px, 1px, 1px, 1px);height: 1px;margin: -1px;overflow: hidden;padding: 0;position: absolute;width: 1px;}#sk-container-id-2 div.sk-estimator {font-family: monospace;background-color: #f0f8ff;border: 1px dotted black;border-radius: 0.25em;box-sizing: border-box;margin-bottom: 0.5em;}#sk-container-id-2 div.sk-estimator:hover {background-color: #d4ebff;}#sk-container-id-2 div.sk-parallel-item::after {content: \"\";width: 100%;border-bottom: 1px solid gray;flex-grow: 1;}#sk-container-id-2 div.sk-label:hover label.sk-toggleable__label {background-color: #d4ebff;}#sk-container-id-2 div.sk-serial::before {content: \"\";position: absolute;border-left: 1px solid gray;box-sizing: border-box;top: 0;bottom: 0;left: 50%;z-index: 0;}#sk-container-id-2 div.sk-serial {display: flex;flex-direction: column;align-items: center;background-color: white;padding-right: 0.2em;padding-left: 0.2em;position: relative;}#sk-container-id-2 div.sk-item {position: relative;z-index: 1;}#sk-container-id-2 div.sk-parallel {display: flex;align-items: stretch;justify-content: center;background-color: white;position: relative;}#sk-container-id-2 div.sk-item::before, #sk-container-id-2 div.sk-parallel-item::before {content: \"\";position: absolute;border-left: 1px solid gray;box-sizing: border-box;top: 0;bottom: 0;left: 50%;z-index: -1;}#sk-container-id-2 div.sk-parallel-item {display: flex;flex-direction: column;z-index: 1;position: relative;background-color: white;}#sk-container-id-2 div.sk-parallel-item:first-child::after {align-self: flex-end;width: 50%;}#sk-container-id-2 div.sk-parallel-item:last-child::after {align-self: flex-start;width: 50%;}#sk-container-id-2 div.sk-parallel-item:only-child::after {width: 0;}#sk-container-id-2 div.sk-dashed-wrapped {border: 1px dashed gray;margin: 0 0.4em 0.5em 0.4em;box-sizing: border-box;padding-bottom: 0.4em;background-color: white;}#sk-container-id-2 div.sk-label label {font-family: monospace;font-weight: bold;display: inline-block;line-height: 1.2em;}#sk-container-id-2 div.sk-label-container {text-align: center;}#sk-container-id-2 div.sk-container {/* jupyter's `normalize.less` sets `[hidden] { display: none; }` but bootstrap.min.css set `[hidden] { display: none !important; }` so we also need the `!important` here to be able to override the default hidden behavior on the sphinx rendered scikit-learn.org. See: https://github.com/scikit-learn/scikit-learn/issues/21755 */display: inline-block !important;position: relative;}#sk-container-id-2 div.sk-text-repr-fallback {display: none;}</style><div id=\"sk-container-id-2\" class=\"sk-top-container\"><div class=\"sk-text-repr-fallback\"><pre>LinearRegression()</pre><b>In a Jupyter environment, please rerun this cell to show the HTML representation or trust the notebook. <br />On GitHub, the HTML representation is unable to render, please try loading this page with nbviewer.org.</b></div><div class=\"sk-container\" hidden><div class=\"sk-item\"><div class=\"sk-estimator sk-toggleable\"><input class=\"sk-toggleable__control sk-hidden--visually\" id=\"sk-estimator-id-2\" type=\"checkbox\" checked><label for=\"sk-estimator-id-2\" class=\"sk-toggleable__label sk-toggleable__label-arrow\">LinearRegression</label><div class=\"sk-toggleable__content\"><pre>LinearRegression()</pre></div></div></div></div></div>"
      ],
      "text/plain": [
       "LinearRegression()"
      ]
     },
     "execution_count": 43,
     "metadata": {},
     "output_type": "execute_result"
    }
   ],
   "source": [
    "#Fitting Multiple Linear Regression to the Training set\n",
    "from sklearn.linear_model import LinearRegression\n",
    "regressor = LinearRegression()\n",
    "regressor.fit(X_train,y_train)"
   ]
  },
  {
   "cell_type": "code",
   "execution_count": 44,
   "id": "5584aee4",
   "metadata": {},
   "outputs": [
    {
     "data": {
      "text/plain": [
       "array([ 1.14069016e+04,  9.86836442e+03,  3.84894000e+04,  1.58300790e+04,\n",
       "        6.81416157e+03,  3.53846835e+03,  1.03140295e+03,  1.33865080e+04,\n",
       "        8.10852179e+03,  6.59616843e+03,  3.52305686e+03,  1.08847626e+04,\n",
       "        9.01734074e+03,  4.21717509e+03,  2.75719383e+04,  1.05152689e+04,\n",
       "        1.11027526e+04,  5.50784732e+03,  8.79293007e+03,  2.64826520e+04,\n",
       "        3.42377446e+04,  1.48317099e+04,  1.11486400e+04,  3.24568858e+04,\n",
       "        4.42241926e+03,  8.57844151e+03,  7.09626757e+02,  9.50581541e+03,\n",
       "        4.16224451e+03,  1.09701031e+04,  8.13482377e+03,  4.02225559e+04,\n",
       "        1.57732490e+04,  1.39571144e+04,  2.42688254e+04,  4.60397010e+03,\n",
       "        1.36663896e+04,  3.08127724e+04,  3.39722074e+04,  3.76310722e+03,\n",
       "        3.56477033e+03,  4.35224748e+03,  2.99659616e+04,  3.98901110e+04,\n",
       "        2.79339036e+04,  5.54745593e+03,  1.04102974e+04,  7.62206477e+03,\n",
       "        3.17314451e+03,  1.07028654e+04,  5.02563741e+03,  2.54009611e+03,\n",
       "        3.32388416e+04,  3.71494060e+04,  1.61882454e+04,  6.48146973e+03,\n",
       "        5.96689114e+03,  9.21853643e+03,  7.68420898e+03,  1.15757286e+04,\n",
       "        2.04496431e+03,  3.79891056e+04,  1.46388774e+04,  1.28187833e+04,\n",
       "        1.48506286e+04,  1.41102862e+04,  2.60893768e+04,  3.12052005e+04,\n",
       "        2.11520541e+03,  1.13004463e+04,  1.25918667e+04,  1.19625236e+04,\n",
       "        2.54058987e+04,  1.58532000e+04,  1.10120954e+04,  1.21302011e+04,\n",
       "        6.89154960e+03,  1.07772281e+04,  2.96571588e+04,  3.91927808e+04,\n",
       "        1.15034347e+04,  3.72806860e+04,  3.89438072e+03,  9.62257654e+03,\n",
       "        3.41782685e+04,  3.00650221e+04,  8.66017380e+03,  4.58158521e+03,\n",
       "        1.23323687e+04,  3.04996985e+04,  8.78509268e+03,  1.16032076e+04,\n",
       "        7.59034154e+03,  1.01223785e+04,  7.76913859e+03,  6.73507804e+03,\n",
       "        3.54042771e+04,  3.41727258e+04,  8.12671075e+03,  1.51663045e+04,\n",
       "        4.29242727e+03,  8.47995010e+03,  7.43357152e+03,  3.17523768e+04,\n",
       "        3.20751191e+04,  1.78436240e+03,  9.37696625e+03,  6.26993622e+03,\n",
       "        1.39472625e+04,  3.73515670e+04,  9.40682427e+03,  1.15124103e+04,\n",
       "        9.96740120e+03,  2.63052546e+04,  4.00276633e+04,  8.81531496e+03,\n",
       "        6.41604008e+02,  9.27897458e+03,  1.53860856e+04,  8.72745396e+03,\n",
       "        3.47666343e+04,  7.15972237e+03,  1.70146758e+04,  8.36594275e+03,\n",
       "        8.50881510e+03,  3.62798595e+03,  3.23875090e+04,  3.21039417e+04,\n",
       "        3.96100451e+04,  5.15043080e+03,  1.04973041e+04,  3.87578097e+03,\n",
       "        7.99411832e+03,  8.20423894e+03,  3.18726352e+04,  3.00878830e+04,\n",
       "        3.01676433e+04,  1.00322667e+04,  3.28847105e+04,  3.11130665e+03,\n",
       "        3.32413542e+03,  1.08859023e+04,  1.42211573e+04,  1.22628286e+04,\n",
       "        5.25042637e+03,  1.58281795e+04,  1.52015902e+04,  3.03535577e+03,\n",
       "       -1.64208982e+02,  1.04089360e+04,  6.90464120e+03,  3.19075801e+04,\n",
       "        1.18199986e+04,  2.68610378e+03,  5.98995278e+03,  8.22400142e+03,\n",
       "        4.12560415e+03,  2.47616074e+03,  1.05025451e+04,  1.15811978e+04,\n",
       "        6.06005930e+03,  1.65780306e+04,  1.15862577e+04,  1.41739053e+04,\n",
       "        2.75668954e+03,  8.09834226e+03,  2.33696603e+04,  6.41485399e+03,\n",
       "        4.99943989e+03,  5.32728277e+03,  7.22797275e+03,  5.51863657e+03,\n",
       "        1.05207340e+04,  5.59704602e+03,  5.33321106e+03,  8.36278870e+03,\n",
       "        4.09834013e+03,  5.43705761e+03,  3.68919851e+04,  9.70964807e+02,\n",
       "        1.31472760e+04,  8.06515173e+03,  1.34203873e+04,  5.66194663e+03,\n",
       "        5.59754251e+03,  3.59194010e+04,  3.77350442e+03,  2.29612781e+03,\n",
       "        1.48723025e+04,  1.28962895e+04,  3.44923881e+04,  5.94403021e+03,\n",
       "        5.96063369e+03,  3.16270837e+04,  5.77719715e+03,  2.39700522e+03,\n",
       "        8.71934094e+03,  8.76802460e+03,  9.05310482e+03,  5.54338320e+03,\n",
       "        1.25847093e+04,  3.87147244e+04,  1.42443966e+04,  2.85045696e+04,\n",
       "        7.28449380e+03,  3.57291023e+04,  4.11932531e+03,  1.21744980e+04,\n",
       "        1.01276497e+04,  6.34200744e+03,  1.10552878e+04,  1.39696474e+04,\n",
       "        4.32050404e+03,  4.55962749e+03,  8.15762853e+03,  1.63357600e+03,\n",
       "        6.75258060e+03,  3.99829338e+03,  1.27044296e+04,  4.73042328e+03,\n",
       "        9.56687149e+03,  6.15743303e+03,  9.50078710e+03,  1.90915579e+03,\n",
       "        1.33858240e+04,  1.64436943e+04,  1.60054824e+04,  1.08728695e+04,\n",
       "        5.21703364e+03,  2.63282306e+03,  2.24811827e+03,  1.28119112e+04,\n",
       "        1.43087281e+04,  5.84366306e+03,  4.22530450e+03,  1.04928416e+04,\n",
       "        9.48389603e+03,  2.76231425e+04,  7.14639379e+03,  1.08637775e+04,\n",
       "        6.53822718e+03,  2.87941091e+04,  1.20515096e+04,  7.01114438e+03,\n",
       "        9.35282060e+03,  1.19671768e+04,  3.34146359e+03,  1.05060277e+04,\n",
       "        1.05378784e+03,  6.61168437e+03,  2.87714536e+04,  3.96520847e+04,\n",
       "        7.30547898e+03,  8.31938443e+03,  1.93797515e+03, -2.62646066e+01,\n",
       "        1.07359108e+04,  4.38253912e+03,  6.14725350e+03,  2.81082460e+03,\n",
       "        6.75642512e+03,  3.36214106e+04,  3.76116691e+04,  1.53034638e+04,\n",
       "        8.03198081e+03,  1.54148461e+04,  3.24326220e+04,  8.42526323e+03])"
      ]
     },
     "execution_count": 44,
     "metadata": {},
     "output_type": "execute_result"
    }
   ],
   "source": [
    "# Predicting the Test set results\n",
    "y_pred = regressor.predict(X_test)\n",
    "y_pred\n"
   ]
  },
  {
   "cell_type": "code",
   "execution_count": 45,
   "id": "64f59bc5",
   "metadata": {},
   "outputs": [
    {
     "name": "stdout",
     "output_type": "stream",
     "text": [
      "[-1113.90958431  -640.93356857   612.75476533  -373.84424662\n",
      "  2096.73964174  -580.80700756   254.90357523   318.09550674\n",
      " 23551.36448598]\n"
     ]
    }
   ],
   "source": [
    "#Calculating the Coefficeinets\n",
    "print(regressor.coef_)"
   ]
  },
  {
   "cell_type": "code",
   "execution_count": 46,
   "id": "d73ad464",
   "metadata": {},
   "outputs": [
    {
     "name": "stdout",
     "output_type": "stream",
     "text": [
      "-10813.635076307239\n"
     ]
    }
   ],
   "source": [
    "#Calculating the Intercept\n",
    "print(regressor.intercept_)"
   ]
  },
  {
   "cell_type": "code",
   "execution_count": 47,
   "id": "2b9fbf9d",
   "metadata": {},
   "outputs": [
    {
     "data": {
      "text/plain": [
       "0.7962952352401954"
      ]
     },
     "execution_count": 47,
     "metadata": {},
     "output_type": "execute_result"
    }
   ],
   "source": [
    "#Calculating the R squared value. AKA Roger Rabbit.https://en.wikipedia.org/wiki/Roger_Rabbit\n",
    "from sklearn.metrics import r2_score\n",
    "r2_score(y_test,y_pred)"
   ]
  },
  {
   "cell_type": "code",
   "execution_count": null,
   "id": "68dbeac4",
   "metadata": {},
   "outputs": [],
   "source": []
  },
  {
   "cell_type": "code",
   "execution_count": null,
   "id": "71a400fb",
   "metadata": {},
   "outputs": [],
   "source": []
  },
  {
   "cell_type": "code",
   "execution_count": null,
   "id": "afa82643",
   "metadata": {},
   "outputs": [],
   "source": []
  },
  {
   "cell_type": "code",
   "execution_count": null,
   "id": "48de068e",
   "metadata": {},
   "outputs": [],
   "source": []
  }
 ],
 "metadata": {
  "kernelspec": {
   "display_name": "Python 3 (ipykernel)",
   "language": "python",
   "name": "python3"
  },
  "language_info": {
   "codemirror_mode": {
    "name": "ipython",
    "version": 3
   },
   "file_extension": ".py",
   "mimetype": "text/x-python",
   "name": "python",
   "nbconvert_exporter": "python",
   "pygments_lexer": "ipython3",
   "version": "3.10.13"
  }
 },
 "nbformat": 4,
 "nbformat_minor": 5
}
